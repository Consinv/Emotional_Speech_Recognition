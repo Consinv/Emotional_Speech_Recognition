{
 "cells": [
  {
   "cell_type": "markdown",
   "metadata": {},
   "source": [
    "## Results of Emotional Speech Detection"
   ]
  },
  {
   "cell_type": "markdown",
   "metadata": {},
   "source": [
    "Binary classification of two emotions (**positive = happiness, negative = sadness**)"
   ]
  },
  {
   "cell_type": "markdown",
   "metadata": {},
   "source": [
    "### Trial1 : pitch-based approach"
   ]
  },
  {
   "cell_type": "markdown",
   "metadata": {},
   "source": [
    "**Train / Test data** : **RAVDESS** (Happy 192, Sad 192) $*$ 70%, $*$ 30%\n",
    "\n",
    "**Validation** : Voice sample from interns(Changbin Jeon, Taehyung Kim, Jaeran Choi, Hyunwoo Gu)\n",
    "\n",
    "**Techniques** : **Fundamental Pitch Extraction**, **LSTM**"
   ]
  },
  {
   "cell_type": "markdown",
   "metadata": {},
   "source": [
    "![Pitch_detection](pitch_detection.png)"
   ]
  },
  {
   "cell_type": "markdown",
   "metadata": {},
   "source": [
    "**Algorithm**\n",
    "\n",
    "1. Select parts of the signal which have amplitude higher than epsilon(1e-3)\n",
    "\n",
    "2. Split audio files into 10 bins. (total length / bin length = 10)\n",
    "\n",
    "3. Extract the fundamental pitch from each bin (10-length vector for each audio)\n",
    "\n",
    "4. Normalize the 10-length pitch vector (z-scores)\n",
    "\n",
    "5. Apply LSTM (from Keras)"
   ]
  },
  {
   "cell_type": "markdown",
   "metadata": {},
   "source": [
    "**Model**\n",
    "\n",
    "| Layer | Output | Remarks\n",
    "|-----|-----| ----|\n",
    "|LSTM| (None, 128) | - |\n",
    "|Dense| (None, 10) | - |"
   ]
  },
  {
   "cell_type": "markdown",
   "metadata": {},
   "source": [
    "**Result**\n",
    "\n",
    "Test : 0.701\n",
    "\n",
    "Validation : 0.571\n",
    "\n",
    "| Sample | State(**Ground Truth**) | **Prediction** | Remark|\n",
    "|-----|-----| ----| ---|\n",
    "|Hyunwoo Gu| Happy | Sad | FN |\n",
    "|Hyunwoo Gu| Sad  | Sad | **TN** |\n",
    "|Changbin Jeon| Happy  | Sad | FN |\n",
    "|Changbin Jeon| Sad  | Sad | **TN** |\n",
    "|Taehyung Kim| Happy  | Happy | **TP** |\n",
    "|Taehyung Kim| Sad  | Sad | **TN** |\n",
    "|Jaeran Choi| Happy  | Sad | FN |"
   ]
  },
  {
   "cell_type": "markdown",
   "metadata": {},
   "source": [
    "### Trial2 : log-mel spectrogram-based approach"
   ]
  },
  {
   "cell_type": "markdown",
   "metadata": {},
   "source": [
    "**Train data** : **RAVDESS** (Happy 192, Sad 192) $*$ 70% **And** the audio samples of **Taehyung Kim** augmented with st. normal noise into 24 samples\n",
    "\n",
    "**Test data** : **RAVDESS** (Happy 192, Sad 192) $*$ 30%\n",
    "\n",
    "**Validation** : Voice sample from interns(Changbin Jeon, Jaeran Choi, Hyunwoo Gu) **Taehyung Kim excluded** \n",
    "\n",
    "**Techniques** : **CNN** of log-mel spectrograms of samples"
   ]
  },
  {
   "cell_type": "markdown",
   "metadata": {},
   "source": [
    "![Melspec_detection](melspec_detection.png)"
   ]
  },
  {
   "cell_type": "markdown",
   "metadata": {},
   "source": [
    "**Algorithm**\n",
    "\n",
    "1. Select parts of the signal which have amplitude higher than epsilon(data/100)\n",
    "\n",
    "2. Convert audio signal into log-melspecrogram\n",
    "\n",
    "3. Apply CNN (from Keras)"
   ]
  },
  {
   "cell_type": "markdown",
   "metadata": {},
   "source": [
    "**Model**\n",
    "\n",
    "| Layer | Output | Remarks\n",
    "|-----|-----| ----|\n",
    "|Conv2D| (None, 125, 41, 32)  | - |\n",
    "|MaxPooling2D| (None, 62, 20, 32)  | - |\n",
    "|Conv2D| (None, 59, 17, 64) | - |\n",
    "|MaxPooling2D| (None, 29, 8, 64)  | - |\n",
    "|Flatten| (None, 14848)  | - |\n",
    "|Dense| (None, 128)  | - |\n",
    "|Dense| (None, 2)  | - |"
   ]
  },
  {
   "cell_type": "markdown",
   "metadata": {},
   "source": [
    "**Result**\n",
    "\n",
    "Test : 0.648\n",
    "\n",
    "Validation : 0.8\n",
    "\n",
    "| Sample | State(**Ground Truth**) | **Prediction** | Remark|\n",
    "|-----|-----| ----| ---|\n",
    "|Hyunwoo Gu| Happy | Sad | FN |\n",
    "|Hyunwoo Gu| Sad  | Sad | **TN** |\n",
    "|Changbin Jeon| Happy  | Sad | **TP** |\n",
    "|Changbin Jeon| Sad  | Sad | **TN** |\n",
    "|Jaeran Choi| Happy  | Sad | **TP** |"
   ]
  }
 ],
 "metadata": {
  "kernelspec": {
   "display_name": "Python [conda root]",
   "language": "python",
   "name": "conda-root-py"
  },
  "language_info": {
   "codemirror_mode": {
    "name": "ipython",
    "version": 3
   },
   "file_extension": ".py",
   "mimetype": "text/x-python",
   "name": "python",
   "nbconvert_exporter": "python",
   "pygments_lexer": "ipython3",
   "version": "3.6.3"
  }
 },
 "nbformat": 4,
 "nbformat_minor": 2
}
