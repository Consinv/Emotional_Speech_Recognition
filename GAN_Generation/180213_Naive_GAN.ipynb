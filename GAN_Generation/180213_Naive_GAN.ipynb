{
 "cells": [
  {
   "cell_type": "markdown",
   "metadata": {},
   "source": [
    "## Load Modules"
   ]
  },
  {
   "cell_type": "code",
   "execution_count": 8,
   "metadata": {},
   "outputs": [],
   "source": [
    "import tensorflow as tf\n",
    "import matplotlib.pyplot as plt\n",
    "import numpy as np\n",
    "import librosa\n",
    "import scipy.io.wavfile\n",
    "import os\n",
    "import math\n",
    "import matplotlib\n",
    "import scipy.stats\n",
    "\n",
    "from librosa.display import *\n",
    "from librosa.effects import *\n",
    "from keras.utils import to_categorical\n",
    "\n",
    "import matplotlib.pyplot as plt\n",
    "%matplotlib inline"
   ]
  },
  {
   "cell_type": "code",
   "execution_count": 10,
   "metadata": {},
   "outputs": [],
   "source": [
    "os.chdir('/users/hyunwoogu/Dropbox/2018MARG/Emotion Recognition/')"
   ]
  },
  {
   "cell_type": "code",
   "execution_count": 11,
   "metadata": {},
   "outputs": [],
   "source": [
    "os.chdir('./Emotional Speech Recognition/')"
   ]
  },
  {
   "cell_type": "code",
   "execution_count": 13,
   "metadata": {},
   "outputs": [],
   "source": [
    "os.chdir('./GAN_generation/Samples/')"
   ]
  },
  {
   "cell_type": "code",
   "execution_count": 14,
   "metadata": {},
   "outputs": [],
   "source": [
    "lists = []\n",
    "for wave in os.listdir(os.getcwd()):\n",
    "    if \"wav\" in wave:\n",
    "        lists.append(wave)\n",
    "        \n",
    "res = []\n",
    "\n",
    "for wave in lists:\n",
    "    data, fs = librosa.load(wave)\n",
    "    data = data/np.ptp(data)\n",
    "    res.append(data.shape[0])"
   ]
  },
  {
   "cell_type": "code",
   "execution_count": 15,
   "metadata": {},
   "outputs": [],
   "source": [
    "def onset(data):\n",
    "    cnt = 0  \n",
    "    for i in data:\n",
    "        cnt += 1\n",
    "        if i > 1e-2:\n",
    "            return(data[(cnt-1):])\n",
    "            break\n",
    "            \n",
    "def termin(data):\n",
    "    cnt = 0\n",
    "    for i in reversed(data):\n",
    "        cnt += 1\n",
    "        if i > 1e-2:\n",
    "            return(data[:(len(data)-cnt+1)])\n",
    "            break"
   ]
  },
  {
   "cell_type": "markdown",
   "metadata": {},
   "source": [
    "## Construction of Dataset"
   ]
  },
  {
   "cell_type": "code",
   "execution_count": 16,
   "metadata": {},
   "outputs": [],
   "source": [
    "foo = 'Sad'\n",
    "bar = 'Happy'\n",
    "\n",
    "ListSad   = np.array(lists)[[i for i, v in enumerate(lists) if foo in v]]\n",
    "ListHappy = np.array(lists)[[i for i, v in enumerate(lists) if bar in v]]\n",
    "\n",
    "Happy_M = np.zeros([129, 410])\n",
    "Happy_P = np.zeros([129, 410])\n",
    "Sad_M   = np.zeros([129, 410])\n",
    "Sad_P   = np.zeros([129, 410])"
   ]
  },
  {
   "cell_type": "code",
   "execution_count": 17,
   "metadata": {},
   "outputs": [],
   "source": [
    "for wave in ListHappy:\n",
    "    data, fs = librosa.load(wave)\n",
    "    trimmed = onset(data)\n",
    "    trimmed = termin(trimmed)\n",
    "\n",
    "    trimmed = librosa.effects.time_stretch(trimmed, len(trimmed)/ fs / 1.5)\n",
    "\n",
    "    STFT    = librosa.stft(trimmed, n_fft=256, hop_length=int(0.01 * 8000), window='hann')\n",
    "    M, P    = librosa.magphase(STFT)\n",
    "    logM    = np.log(M)\n",
    "            \n",
    "    Happy_M = np.vstack((Happy_M, logM))\n",
    "    Happy_P = np.vstack((Happy_P, P))    \n",
    "        \n",
    "HappyX = np.reshape(Happy_M, [ListHappy.shape[0]+1, 129, 410])\n",
    "HappyX = HappyX[1:, :, :]\n",
    "HappyP = np.reshape(Happy_P, [ListHappy.shape[0]+1, 129, 410])\n",
    "HappyP = HappyP[1:, :, :]"
   ]
  },
  {
   "cell_type": "code",
   "execution_count": 19,
   "metadata": {},
   "outputs": [],
   "source": [
    "for wave in ListSad:\n",
    "    data, fs = librosa.load(wave)\n",
    "    trimmed = onset(data)\n",
    "    trimmed = termin(trimmed)\n",
    "\n",
    "    trimmed = librosa.effects.time_stretch(trimmed, len(trimmed)/ fs / 1.5)\n",
    "\n",
    "    STFT    = librosa.stft(trimmed, n_fft=256, hop_length=int(0.01 * 8000), window='hann')\n",
    "    M, P    = librosa.magphase(STFT)\n",
    "    logM    = np.log(M)\n",
    "            \n",
    "    Sad_M = np.vstack((Sad_M, logM))\n",
    "    Sad_P = np.vstack((Sad_P, P))    \n",
    "        \n",
    "SadX = np.reshape(Sad_M, [ListSad.shape[0]+1, 129, 410])\n",
    "SadX = SadX[1:, :, :]\n",
    "SadP = np.reshape(Sad_P, [ListSad.shape[0]+1, 129, 410])\n",
    "SadP = SadP[1:, :, :]"
   ]
  },
  {
   "cell_type": "code",
   "execution_count": 20,
   "metadata": {},
   "outputs": [],
   "source": [
    "dataX = np.vstack((HappyX, SadX))\n",
    "dataX = np.reshape(dataX, [9, 129, 410])\n",
    "dataY = np.repeat(np.array([1, 0]), [5, 4])\n",
    "\n",
    "CheckX = np.vstack((HappyP, SadP))\n",
    "CheckX = np.reshape(CheckX, [9, 129, 410])\n",
    "CheckY = np.repeat(np.array([1, 0]), [9, 400])"
   ]
  },
  {
   "cell_type": "code",
   "execution_count": 21,
   "metadata": {},
   "outputs": [],
   "source": [
    "inx = np.array(range(9))\n",
    "np.random.shuffle(inx)\n",
    "\n",
    "dataX = dataX[inx, :, :]\n",
    "dataY = dataY[inx]\n",
    "\n",
    "CheckX = CheckX[inx, :, :]\n",
    "CheckY = CheckY[inx]\n",
    "\n",
    "dataY = to_categorical(dataY, 2)"
   ]
  },
  {
   "cell_type": "markdown",
   "metadata": {},
   "source": [
    "## Hyperparameters"
   ]
  },
  {
   "cell_type": "code",
   "execution_count": 53,
   "metadata": {},
   "outputs": [],
   "source": [
    "total_epoch = 300\n",
    "batch_size  = 9\n",
    "n_hidden = 512\n",
    "n_input  = 129 * 410\n",
    "n_noise  = 256\n",
    "n_class  = 2"
   ]
  },
  {
   "cell_type": "markdown",
   "metadata": {},
   "source": [
    "## Model"
   ]
  },
  {
   "cell_type": "code",
   "execution_count": 54,
   "metadata": {},
   "outputs": [],
   "source": [
    "tf.reset_default_graph()"
   ]
  },
  {
   "cell_type": "code",
   "execution_count": 55,
   "metadata": {},
   "outputs": [],
   "source": [
    "X = tf.placeholder(tf.float32, [None, n_input])\n",
    "Y = tf.placeholder(tf.float32, [None, n_class])\n",
    "Z = tf.placeholder(tf.float32, [None, n_noise])"
   ]
  },
  {
   "cell_type": "code",
   "execution_count": 56,
   "metadata": {},
   "outputs": [],
   "source": [
    "def generator(noise, labels):\n",
    "    with tf.variable_scope('generator'):\n",
    "        inputs = tf.concat([noise, labels], 1)\n",
    "        hidden = tf.layers.dense(inputs, n_hidden,\n",
    "                                 activation=tf.nn.relu)\n",
    "        output = tf.layers.dense(hidden, n_input,\n",
    "                                 activation=tf.nn.sigmoid)\n",
    "\n",
    "    return output\n",
    "\n",
    "\n",
    "def discriminator(inputs, labels, reuse=None):\n",
    "    with tf.variable_scope('discriminator') as scope:\n",
    "        if reuse:\n",
    "            scope.reuse_variables()\n",
    "\n",
    "        inputs = tf.concat([inputs, labels], 1)\n",
    "\n",
    "        hidden = tf.layers.dense(inputs, n_hidden,\n",
    "                                 activation=tf.nn.relu)\n",
    "        output = tf.layers.dense(hidden, 1,\n",
    "                                 activation=None)\n",
    "\n",
    "    return output\n",
    "\n",
    "\n",
    "def get_noise(batch_size, n_noise):\n",
    "    return np.random.uniform(-1., 1., size=[batch_size, n_noise])"
   ]
  },
  {
   "cell_type": "markdown",
   "metadata": {},
   "source": [
    "## Loss Function"
   ]
  },
  {
   "cell_type": "code",
   "execution_count": 57,
   "metadata": {},
   "outputs": [],
   "source": [
    "G = generator(Z, Y)\n",
    "D_real = discriminator(X, Y)\n",
    "D_gene = discriminator(G, Y, True)\n",
    "\n",
    "loss_D_real = tf.reduce_mean(tf.nn.sigmoid_cross_entropy_with_logits(\n",
    "    logits=D_real, labels=tf.ones_like(D_real)))\n",
    "loss_D_gene = tf.reduce_mean(tf.nn.sigmoid_cross_entropy_with_logits(\n",
    "    logits=D_gene, labels=tf.zeros_like(D_gene)))\n",
    "\n",
    "loss_D = loss_D_real + loss_D_gene\n",
    "loss_G = tf.reduce_mean(tf.nn.sigmoid_cross_entropy_with_logits(\n",
    "    logits=D_gene, labels=tf.ones_like(D_gene)))\n",
    "\n",
    "\n",
    "vars_D = tf.get_collection(tf.GraphKeys.TRAINABLE_VARIABLES, scope='discriminator')\n",
    "vars_G = tf.get_collection(tf.GraphKeys.TRAINABLE_VARIABLES, scope='generator')\n",
    "\n",
    "train_D = tf.train.AdamOptimizer().minimize(loss_D, var_list=vars_D)\n",
    "train_G = tf.train.AdamOptimizer().minimize(loss_G, var_list=vars_G)"
   ]
  },
  {
   "cell_type": "markdown",
   "metadata": {},
   "source": [
    "## Train!"
   ]
  },
  {
   "cell_type": "code",
   "execution_count": 58,
   "metadata": {},
   "outputs": [
    {
     "name": "stdout",
     "output_type": "stream",
     "text": [
      "Epoch: 0000 D loss: 0.5996 G loss: 323.5\n",
      "Epoch: 0001 D loss: 0.0 G loss: 515.1\n",
      "Epoch: 0002 D loss: 0.0 G loss: 644.3\n",
      "Epoch: 0003 D loss: 0.0 G loss: 732.5\n",
      "Epoch: 0004 D loss: 0.0 G loss: 780.1\n",
      "Epoch: 0005 D loss: 0.0 G loss: 806.8\n",
      "Epoch: 0006 D loss: 0.0 G loss: 847.5\n",
      "Epoch: 0007 D loss: 0.0 G loss: 835.6\n",
      "Epoch: 0008 D loss: 0.0 G loss: 847.6\n",
      "Epoch: 0009 D loss: 0.0 G loss: 842.6\n",
      "Epoch: 0010 D loss: 0.0 G loss: 775.0\n",
      "Epoch: 0011 D loss: 0.0 G loss: 767.0\n",
      "Epoch: 0012 D loss: 0.0 G loss: 686.2\n",
      "Epoch: 0013 D loss: 0.0 G loss: 674.4\n",
      "Epoch: 0014 D loss: 0.0 G loss: 673.8\n",
      "Epoch: 0015 D loss: 0.0 G loss: 596.4\n",
      "Epoch: 0016 D loss: 0.0 G loss: 576.7\n",
      "Epoch: 0017 D loss: 0.0 G loss: 476.4\n",
      "Epoch: 0018 D loss: 0.0 G loss: 488.5\n",
      "Epoch: 0019 D loss: 0.0 G loss: 463.4\n",
      "Epoch: 0020 D loss: 0.0 G loss: 388.6\n",
      "Epoch: 0021 D loss: 0.0 G loss: 324.8\n",
      "Epoch: 0022 D loss: 0.0 G loss: 346.6\n",
      "Epoch: 0023 D loss: 0.0 G loss: 293.6\n",
      "Epoch: 0024 D loss: 0.0 G loss: 249.1\n",
      "Epoch: 0025 D loss: 0.0 G loss: 232.8\n",
      "Epoch: 0026 D loss: 0.0 G loss: 232.8\n",
      "Epoch: 0027 D loss: 0.0 G loss: 182.5\n",
      "Epoch: 0028 D loss: 0.0 G loss: 221.5\n",
      "Epoch: 0029 D loss: 0.0 G loss: 183.4\n",
      "Epoch: 0030 D loss: 1.533e-26 G loss: 172.4\n",
      "Epoch: 0031 D loss: 5.655e-34 G loss: 143.4\n",
      "Epoch: 0032 D loss: 1.711e-38 G loss: 132.8\n",
      "Epoch: 0033 D loss: 4.072e-28 G loss: 146.7\n",
      "Epoch: 0034 D loss: 1.565e-26 G loss: 104.1\n",
      "Epoch: 0035 D loss: 1.77e-22 G loss: 103.2\n",
      "Epoch: 0036 D loss: 4.653e-18 G loss: 86.94\n",
      "Epoch: 0037 D loss: 1.082e-17 G loss: 79.88\n",
      "Epoch: 0038 D loss: 6.554e-23 G loss: 104.6\n",
      "Epoch: 0039 D loss: 4.582e-17 G loss: 69.36\n",
      "Epoch: 0040 D loss: 7.68e-17 G loss: 63.39\n",
      "Epoch: 0041 D loss: 3.966e-18 G loss: 87.15\n",
      "Epoch: 0042 D loss: 2.594e-13 G loss: 66.82\n",
      "Epoch: 0043 D loss: 4.923e-14 G loss: 60.98\n",
      "Epoch: 0044 D loss: 3.377e-14 G loss: 65.35\n",
      "Epoch: 0045 D loss: 3.521e-14 G loss: 50.9\n",
      "Epoch: 0046 D loss: 3.663e-09 G loss: 53.49\n",
      "Epoch: 0047 D loss: 9.398e-16 G loss: 40.77\n",
      "Epoch: 0048 D loss: 2.325e-05 G loss: 43.0\n",
      "Epoch: 0049 D loss: 6.158e-08 G loss: 47.73\n",
      "Epoch: 0050 D loss: 6.545e-09 G loss: 51.49\n",
      "Epoch: 0051 D loss: 1.401e-06 G loss: 34.93\n",
      "Epoch: 0052 D loss: 1.214e-08 G loss: 29.83\n",
      "Epoch: 0053 D loss: 1.071e-06 G loss: 34.0\n",
      "Epoch: 0054 D loss: 2.56e-08 G loss: 40.22\n",
      "Epoch: 0055 D loss: 5.151e-07 G loss: 26.51\n",
      "Epoch: 0056 D loss: 2.141e-06 G loss: 36.22\n",
      "Epoch: 0057 D loss: 4.777e-08 G loss: 28.34\n",
      "Epoch: 0058 D loss: 3.786e-08 G loss: 27.29\n",
      "Epoch: 0059 D loss: 6.006e-05 G loss: 25.01\n",
      "Epoch: 0060 D loss: 5.272e-08 G loss: 26.46\n",
      "Epoch: 0061 D loss: 1.602e-06 G loss: 28.46\n",
      "Epoch: 0062 D loss: 2.736e-07 G loss: 33.69\n",
      "Epoch: 0063 D loss: 4.558e-05 G loss: 19.67\n",
      "Epoch: 0064 D loss: 4.755e-05 G loss: 19.5\n",
      "Epoch: 0065 D loss: 2.575e-05 G loss: 27.79\n",
      "Epoch: 0066 D loss: 9.073e-07 G loss: 26.75\n",
      "Epoch: 0067 D loss: 1.065e-06 G loss: 21.61\n",
      "Epoch: 0068 D loss: 0.0006458 G loss: 18.34\n",
      "Epoch: 0069 D loss: 6.52e-07 G loss: 23.52\n",
      "Epoch: 0070 D loss: 5.799e-06 G loss: 18.77\n",
      "Epoch: 0071 D loss: 0.002823 G loss: 24.08\n",
      "Epoch: 0072 D loss: 0.002212 G loss: 14.94\n",
      "Epoch: 0073 D loss: 6.371e-06 G loss: 19.56\n",
      "Epoch: 0074 D loss: 0.0002323 G loss: 12.53\n",
      "Epoch: 0075 D loss: 0.0001781 G loss: 17.46\n",
      "Epoch: 0076 D loss: 0.002315 G loss: 15.85\n",
      "Epoch: 0077 D loss: 0.001589 G loss: 19.67\n",
      "Epoch: 0078 D loss: 1.088e-05 G loss: 17.94\n",
      "Epoch: 0079 D loss: 4.993e-06 G loss: 17.19\n",
      "Epoch: 0080 D loss: 0.0008338 G loss: 14.02\n",
      "Epoch: 0081 D loss: 0.0004197 G loss: 17.4\n",
      "Epoch: 0082 D loss: 0.006303 G loss: 16.32\n",
      "Epoch: 0083 D loss: 1.934e-05 G loss: 16.71\n",
      "Epoch: 0084 D loss: 4.1e-06 G loss: 20.36\n",
      "Epoch: 0085 D loss: 0.00529 G loss: 17.46\n",
      "Epoch: 0086 D loss: 0.0001218 G loss: 19.27\n",
      "Epoch: 0087 D loss: 2.159e-05 G loss: 17.27\n",
      "Epoch: 0088 D loss: 0.0001312 G loss: 19.25\n",
      "Epoch: 0089 D loss: 0.0007599 G loss: 14.17\n",
      "Epoch: 0090 D loss: 6.057e-06 G loss: 19.94\n",
      "Epoch: 0091 D loss: 0.0002742 G loss: 18.79\n",
      "Epoch: 0092 D loss: 0.0001105 G loss: 22.94\n",
      "Epoch: 0093 D loss: 0.0004619 G loss: 16.71\n",
      "Epoch: 0094 D loss: 0.0009664 G loss: 17.23\n",
      "Epoch: 0095 D loss: 2.883e-06 G loss: 15.28\n",
      "Epoch: 0096 D loss: 7.357e-05 G loss: 14.41\n",
      "Epoch: 0097 D loss: 6.653e-05 G loss: 16.99\n",
      "Epoch: 0098 D loss: 1.474e-05 G loss: 17.92\n",
      "Epoch: 0099 D loss: 0.001013 G loss: 13.38\n",
      "Epoch: 0100 D loss: 6.313e-06 G loss: 19.54\n",
      "Epoch: 0101 D loss: 0.0001133 G loss: 21.02\n",
      "Epoch: 0102 D loss: 0.0003736 G loss: 17.2\n",
      "Epoch: 0103 D loss: 0.0001018 G loss: 12.85\n",
      "Epoch: 0104 D loss: 0.0001965 G loss: 12.43\n",
      "Epoch: 0105 D loss: 0.003569 G loss: 9.066\n",
      "Epoch: 0106 D loss: 0.0005636 G loss: 12.34\n",
      "Epoch: 0107 D loss: 0.001235 G loss: 14.49\n",
      "Epoch: 0108 D loss: 3.986e-05 G loss: 15.29\n",
      "Epoch: 0109 D loss: 0.0003242 G loss: 12.12\n",
      "Epoch: 0110 D loss: 3.457e-05 G loss: 19.9\n",
      "Epoch: 0111 D loss: 0.001122 G loss: 17.09\n",
      "Epoch: 0112 D loss: 0.0001113 G loss: 14.31\n",
      "Epoch: 0113 D loss: 0.0001006 G loss: 15.01\n",
      "Epoch: 0114 D loss: 0.001164 G loss: 11.75\n",
      "Epoch: 0115 D loss: 0.004438 G loss: 10.32\n",
      "Epoch: 0116 D loss: 0.001314 G loss: 10.85\n",
      "Epoch: 0117 D loss: 0.00466 G loss: 13.34\n",
      "Epoch: 0118 D loss: 0.001194 G loss: 11.17\n",
      "Epoch: 0119 D loss: 0.003119 G loss: 14.31\n",
      "Epoch: 0120 D loss: 0.00166 G loss: 12.53\n",
      "Epoch: 0121 D loss: 0.000404 G loss: 13.89\n",
      "Epoch: 0122 D loss: 0.001404 G loss: 13.86\n",
      "Epoch: 0123 D loss: 0.004033 G loss: 11.76\n",
      "Epoch: 0124 D loss: 0.002047 G loss: 14.59\n",
      "Epoch: 0125 D loss: 0.00543 G loss: 9.153\n",
      "Epoch: 0126 D loss: 0.0004012 G loss: 18.23\n",
      "Epoch: 0127 D loss: 0.001853 G loss: 10.3\n",
      "Epoch: 0128 D loss: 1.073e-05 G loss: 14.45\n",
      "Epoch: 0129 D loss: 0.001991 G loss: 14.21\n",
      "Epoch: 0130 D loss: 0.004712 G loss: 13.27\n",
      "Epoch: 0131 D loss: 0.0003343 G loss: 16.59\n",
      "Epoch: 0132 D loss: 7.324e-05 G loss: 16.26\n",
      "Epoch: 0133 D loss: 4.186e-05 G loss: 14.57\n",
      "Epoch: 0134 D loss: 0.000406 G loss: 17.08\n",
      "Epoch: 0135 D loss: 0.0002735 G loss: 15.94\n",
      "Epoch: 0136 D loss: 0.0001057 G loss: 19.47\n",
      "Epoch: 0137 D loss: 0.001068 G loss: 12.44\n",
      "Epoch: 0138 D loss: 4.56e-05 G loss: 15.85\n",
      "Epoch: 0139 D loss: 0.003936 G loss: 11.34\n",
      "Epoch: 0140 D loss: 2.165e-06 G loss: 20.39\n",
      "Epoch: 0141 D loss: 0.0001208 G loss: 15.06\n",
      "Epoch: 0142 D loss: 0.001548 G loss: 15.24\n",
      "Epoch: 0143 D loss: 4.983e-05 G loss: 15.09\n",
      "Epoch: 0144 D loss: 5.005e-05 G loss: 12.39\n",
      "Epoch: 0145 D loss: 0.0001515 G loss: 15.2\n",
      "Epoch: 0146 D loss: 0.0004627 G loss: 15.04\n",
      "Epoch: 0147 D loss: 4.598e-05 G loss: 13.89\n",
      "Epoch: 0148 D loss: 0.0007223 G loss: 11.45\n",
      "Epoch: 0149 D loss: 0.000644 G loss: 10.27\n",
      "Epoch: 0150 D loss: 6.207e-05 G loss: 15.83\n",
      "Epoch: 0151 D loss: 9.403e-05 G loss: 13.49\n",
      "Epoch: 0152 D loss: 2.092e-05 G loss: 14.21\n",
      "Epoch: 0153 D loss: 0.0001629 G loss: 16.27\n",
      "Epoch: 0154 D loss: 0.0005981 G loss: 13.13\n",
      "Epoch: 0155 D loss: 0.0002027 G loss: 11.78\n",
      "Epoch: 0156 D loss: 0.001427 G loss: 9.074\n",
      "Epoch: 0157 D loss: 0.00189 G loss: 11.82\n",
      "Epoch: 0158 D loss: 0.0003143 G loss: 13.68\n",
      "Epoch: 0159 D loss: 0.001069 G loss: 12.61\n",
      "Epoch: 0160 D loss: 0.001061 G loss: 12.84\n",
      "Epoch: 0161 D loss: 0.0002746 G loss: 17.23\n",
      "Epoch: 0162 D loss: 0.0005484 G loss: 13.56\n",
      "Epoch: 0163 D loss: 0.001909 G loss: 9.912\n",
      "Epoch: 0164 D loss: 0.001557 G loss: 10.46\n",
      "Epoch: 0165 D loss: 0.001051 G loss: 11.76\n",
      "Epoch: 0166 D loss: 0.0005673 G loss: 11.99\n",
      "Epoch: 0167 D loss: 0.001221 G loss: 10.63\n",
      "Epoch: 0168 D loss: 0.0003691 G loss: 12.76\n",
      "Epoch: 0169 D loss: 0.0002196 G loss: 12.83\n",
      "Epoch: 0170 D loss: 0.0003784 G loss: 10.96\n",
      "Epoch: 0171 D loss: 0.001769 G loss: 9.675\n",
      "Epoch: 0172 D loss: 0.0007263 G loss: 10.04\n",
      "Epoch: 0173 D loss: 5.089e-05 G loss: 14.97\n",
      "Epoch: 0174 D loss: 0.0001555 G loss: 14.77\n",
      "Epoch: 0175 D loss: 0.0003752 G loss: 12.98\n",
      "Epoch: 0176 D loss: 0.0001041 G loss: 10.48\n",
      "Epoch: 0177 D loss: 0.0004245 G loss: 10.97\n",
      "Epoch: 0178 D loss: 0.0001331 G loss: 11.57\n",
      "Epoch: 0179 D loss: 0.0005412 G loss: 10.62\n",
      "Epoch: 0180 D loss: 0.0007793 G loss: 9.761\n",
      "Epoch: 0181 D loss: 0.0008977 G loss: 9.16\n",
      "Epoch: 0182 D loss: 0.000434 G loss: 11.03\n",
      "Epoch: 0183 D loss: 9.694e-05 G loss: 12.83\n",
      "Epoch: 0184 D loss: 0.0001285 G loss: 12.37\n",
      "Epoch: 0185 D loss: 0.0001494 G loss: 13.1\n",
      "Epoch: 0186 D loss: 0.0002015 G loss: 11.23\n",
      "Epoch: 0187 D loss: 6.868e-05 G loss: 12.04\n",
      "Epoch: 0188 D loss: 0.000134 G loss: 10.91\n",
      "Epoch: 0189 D loss: 0.0007498 G loss: 11.57\n",
      "Epoch: 0190 D loss: 0.0007694 G loss: 9.596\n",
      "Epoch: 0191 D loss: 0.0002628 G loss: 11.14\n",
      "Epoch: 0192 D loss: 0.00117 G loss: 10.82\n",
      "Epoch: 0193 D loss: 0.000234 G loss: 9.98\n",
      "Epoch: 0194 D loss: 0.001046 G loss: 8.508\n",
      "Epoch: 0195 D loss: 0.0002383 G loss: 9.374\n",
      "Epoch: 0196 D loss: 0.0007675 G loss: 10.63\n",
      "Epoch: 0197 D loss: 0.000377 G loss: 10.02\n",
      "Epoch: 0198 D loss: 0.0009999 G loss: 10.43\n",
      "Epoch: 0199 D loss: 0.001375 G loss: 10.69\n",
      "Epoch: 0200 D loss: 0.000294 G loss: 11.65\n",
      "Epoch: 0201 D loss: 0.0002735 G loss: 11.55\n",
      "Epoch: 0202 D loss: 0.0004519 G loss: 10.52\n",
      "Epoch: 0203 D loss: 0.0006189 G loss: 9.628\n",
      "Epoch: 0204 D loss: 0.0004894 G loss: 9.696\n",
      "Epoch: 0205 D loss: 0.0003778 G loss: 10.2\n",
      "Epoch: 0206 D loss: 0.0002198 G loss: 10.17\n",
      "Epoch: 0207 D loss: 0.001008 G loss: 8.165\n",
      "Epoch: 0208 D loss: 0.0008393 G loss: 8.778\n",
      "Epoch: 0209 D loss: 0.0004066 G loss: 10.11\n",
      "Epoch: 0210 D loss: 0.0004986 G loss: 8.885\n",
      "Epoch: 0211 D loss: 0.000238 G loss: 10.3\n",
      "Epoch: 0212 D loss: 0.0004287 G loss: 10.01\n",
      "Epoch: 0213 D loss: 0.0002562 G loss: 9.306\n",
      "Epoch: 0214 D loss: 0.0005493 G loss: 11.09\n",
      "Epoch: 0215 D loss: 0.0003739 G loss: 11.32\n",
      "Epoch: 0216 D loss: 0.0003286 G loss: 10.75\n",
      "Epoch: 0217 D loss: 0.0005637 G loss: 9.981\n",
      "Epoch: 0218 D loss: 0.0004565 G loss: 9.267\n",
      "Epoch: 0219 D loss: 0.0003349 G loss: 10.1\n",
      "Epoch: 0220 D loss: 0.0005973 G loss: 8.516\n",
      "Epoch: 0221 D loss: 0.0006482 G loss: 10.07\n",
      "Epoch: 0222 D loss: 0.0001723 G loss: 9.708\n",
      "Epoch: 0223 D loss: 0.0003437 G loss: 8.742\n",
      "Epoch: 0224 D loss: 0.0001333 G loss: 9.842\n",
      "Epoch: 0225 D loss: 0.0005234 G loss: 8.446\n",
      "Epoch: 0226 D loss: 0.0003498 G loss: 10.62\n",
      "Epoch: 0227 D loss: 0.0003651 G loss: 8.419\n",
      "Epoch: 0228 D loss: 0.0004935 G loss: 8.785\n",
      "Epoch: 0229 D loss: 0.0004832 G loss: 8.681\n",
      "Epoch: 0230 D loss: 0.0002635 G loss: 9.575\n",
      "Epoch: 0231 D loss: 0.0003377 G loss: 9.886\n",
      "Epoch: 0232 D loss: 0.0003637 G loss: 9.502\n",
      "Epoch: 0233 D loss: 0.0002801 G loss: 9.622\n",
      "Epoch: 0234 D loss: 0.0002763 G loss: 10.53\n",
      "Epoch: 0235 D loss: 0.0002629 G loss: 9.007\n",
      "Epoch: 0236 D loss: 0.0003838 G loss: 9.012\n",
      "Epoch: 0237 D loss: 0.000299 G loss: 8.683\n",
      "Epoch: 0238 D loss: 0.0002368 G loss: 9.704\n",
      "Epoch: 0239 D loss: 0.0001301 G loss: 11.37\n",
      "Epoch: 0240 D loss: 0.0004061 G loss: 8.717\n",
      "Epoch: 0241 D loss: 0.0004769 G loss: 8.672\n",
      "Epoch: 0242 D loss: 0.0001238 G loss: 10.32\n",
      "Epoch: 0243 D loss: 0.0003105 G loss: 9.613\n",
      "Epoch: 0244 D loss: 0.0002134 G loss: 8.811\n",
      "Epoch: 0245 D loss: 0.0002223 G loss: 9.629\n",
      "Epoch: 0246 D loss: 0.0002282 G loss: 9.115\n",
      "Epoch: 0247 D loss: 0.0002717 G loss: 9.115\n",
      "Epoch: 0248 D loss: 0.0003083 G loss: 9.413\n",
      "Epoch: 0249 D loss: 0.0002068 G loss: 9.492\n",
      "Epoch: 0250 D loss: 0.0001375 G loss: 10.37\n",
      "Epoch: 0251 D loss: 0.0002619 G loss: 9.143\n",
      "Epoch: 0252 D loss: 0.0003933 G loss: 8.209\n",
      "Epoch: 0253 D loss: 0.0001396 G loss: 9.933\n",
      "Epoch: 0254 D loss: 9.433e-05 G loss: 10.03\n",
      "Epoch: 0255 D loss: 0.0001366 G loss: 9.693\n",
      "Epoch: 0256 D loss: 0.000194 G loss: 9.892\n",
      "Epoch: 0257 D loss: 0.0001075 G loss: 10.57\n",
      "Epoch: 0258 D loss: 0.0001355 G loss: 9.565\n",
      "Epoch: 0259 D loss: 0.000258 G loss: 8.717\n",
      "Epoch: 0260 D loss: 0.0001447 G loss: 10.02\n",
      "Epoch: 0261 D loss: 6.339e-05 G loss: 9.948\n",
      "Epoch: 0262 D loss: 0.0003702 G loss: 8.534\n",
      "Epoch: 0263 D loss: 0.0002929 G loss: 8.629\n",
      "Epoch: 0264 D loss: 0.0001632 G loss: 9.791\n",
      "Epoch: 0265 D loss: 0.0001352 G loss: 9.85\n",
      "Epoch: 0266 D loss: 0.000222 G loss: 8.815\n",
      "Epoch: 0267 D loss: 0.000138 G loss: 9.252\n",
      "Epoch: 0268 D loss: 0.000231 G loss: 9.427\n",
      "Epoch: 0269 D loss: 0.000223 G loss: 8.996\n",
      "Epoch: 0270 D loss: 8.469e-05 G loss: 11.46\n",
      "Epoch: 0271 D loss: 9.378e-05 G loss: 9.546\n",
      "Epoch: 0272 D loss: 0.0003108 G loss: 9.255\n",
      "Epoch: 0273 D loss: 0.0002315 G loss: 8.977\n",
      "Epoch: 0274 D loss: 0.0001663 G loss: 9.022\n",
      "Epoch: 0275 D loss: 0.0002323 G loss: 9.195\n",
      "Epoch: 0276 D loss: 0.0001683 G loss: 8.837\n",
      "Epoch: 0277 D loss: 8.471e-05 G loss: 9.904\n",
      "Epoch: 0278 D loss: 0.0001912 G loss: 9.066\n",
      "Epoch: 0279 D loss: 0.0001824 G loss: 9.217\n",
      "Epoch: 0280 D loss: 0.0002481 G loss: 8.708\n",
      "Epoch: 0281 D loss: 0.000186 G loss: 9.23\n",
      "Epoch: 0282 D loss: 0.0002261 G loss: 9.238\n",
      "Epoch: 0283 D loss: 0.0001615 G loss: 9.421\n",
      "Epoch: 0284 D loss: 0.0001889 G loss: 9.243\n",
      "Epoch: 0285 D loss: 0.0001705 G loss: 9.814\n",
      "Epoch: 0286 D loss: 0.0001241 G loss: 9.781\n",
      "Epoch: 0287 D loss: 0.0002462 G loss: 8.942\n",
      "Epoch: 0288 D loss: 0.0002173 G loss: 8.697\n",
      "Epoch: 0289 D loss: 0.0001258 G loss: 9.643\n",
      "Epoch: 0290 D loss: 0.0002061 G loss: 9.237\n",
      "Epoch: 0291 D loss: 0.0001378 G loss: 9.912\n",
      "Epoch: 0292 D loss: 0.0001125 G loss: 9.409\n",
      "Epoch: 0293 D loss: 0.0002055 G loss: 9.284\n",
      "Epoch: 0294 D loss: 0.0001201 G loss: 9.319\n",
      "Epoch: 0295 D loss: 0.0001235 G loss: 9.592\n",
      "Epoch: 0296 D loss: 0.0001254 G loss: 10.05\n",
      "Epoch: 0297 D loss: 5.335e-05 G loss: 10.16\n",
      "Epoch: 0298 D loss: 0.0001766 G loss: 9.083\n",
      "Epoch: 0299 D loss: 0.0001683 G loss: 9.423\n",
      "Optimization Completed!\n"
     ]
    }
   ],
   "source": [
    "sess = tf.Session()\n",
    "sess.run(tf.global_variables_initializer())\n",
    "\n",
    "total_batch = int(9/batch_size)\n",
    "loss_val_D, loss_val_G = 0, 0\n",
    "\n",
    "for epoch in range(total_epoch):\n",
    "    for i in range(total_batch):\n",
    "        batch_xs = np.reshape(dataX[batch_size*i:batch_size*(i+1), :, :], [batch_size, n_input])\n",
    "        batch_ys = np.reshape(dataY[batch_size*i:batch_size*(i+1), :], [batch_size, 2])\n",
    "        noise = get_noise(batch_size, n_noise)\n",
    "\n",
    "        _, loss_val_D = sess.run([train_D, loss_D],feed_dict={X: batch_xs, Y: batch_ys, Z: noise})\n",
    "        _, loss_val_G = sess.run([train_G, loss_G],feed_dict={Y: batch_ys, Z: noise})\n",
    "\n",
    "    print('Epoch:', '%04d' % epoch,\n",
    "          'D loss: {:.4}'.format(loss_val_D),\n",
    "          'G loss: {:.4}'.format(loss_val_G))\n",
    "\n",
    "    if epoch == 0 or (epoch + 1) % 10 == 0:\n",
    "        sample_size = 2\n",
    "        noise = get_noise(sample_size, n_noise)\n",
    "        samples = sess.run(G, feed_dict={Y: dataY[[2,0], :], Z: noise}) ## 0, 1\n",
    "\n",
    "print('Optimization Completed!')"
   ]
  },
  {
   "cell_type": "markdown",
   "metadata": {},
   "source": [
    "## Results"
   ]
  },
  {
   "cell_type": "code",
   "execution_count": 137,
   "metadata": {},
   "outputs": [],
   "source": [
    "res = np.reshape(samples, [2, 129, 410])"
   ]
  },
  {
   "cell_type": "code",
   "execution_count": 72,
   "metadata": {},
   "outputs": [],
   "source": [
    "#res0 = librosa.decompose.nn_filter(np.exp(res[0, :, :]), aggregate=np.median, metric='cosine') * CheckX[2, :, :]\n",
    "#res1 = librosa.decompose.nn_filter(np.exp(res[1, :, :]), aggregate=np.median, metric='cosine') * CheckX[0, :, :]\n",
    "\n",
    "res0 = np.exp(dataX[3, :, :]) * CheckX[2, :, :]\n",
    "res1 = np.exp(dataX[4, :, :]) * CheckX[0, :, :]\n",
    "\n",
    "res0 = librosa.istft(res0, hop_length=int(0.01 * 8000), window='hann')\n",
    "res1 = librosa.istft(res1, hop_length=int(0.01 * 8000), window='hann')\n",
    "\n",
    "res0 = librosa.effects.time_stretch(res0, len(res0)/ fs / 2)\n",
    "res1 = librosa.effects.time_stretch(res1, len(res1)/ fs / 2)\n",
    "\n",
    "librosa.output.write_wav('Original1.wav',   res0, fs)\n",
    "librosa.output.write_wav('Original2.wav', res1, fs)"
   ]
  },
  {
   "cell_type": "code",
   "execution_count": 29,
   "metadata": {},
   "outputs": [
    {
     "data": {
      "text/plain": [
       "<matplotlib.axes._subplots.AxesSubplot at 0x1c1a9e4b38>"
      ]
     },
     "execution_count": 29,
     "metadata": {},
     "output_type": "execute_result"
    },
    {
     "data": {
      "image/png": "[encoded data removed]",
      "text/plain": [
       "<matplotlib.figure.Figure at 0x1c1a622208>"
      ]
     },
     "metadata": {},
     "output_type": "display_data"
    }
   ],
   "source": [
    "specshow(np.exp(dataX[8, :, :]), sr=fs)"
   ]
  },
  {
   "cell_type": "code",
   "execution_count": 73,
   "metadata": {},
   "outputs": [
    {
     "data": {
      "text/plain": [
       "<matplotlib.axes._subplots.AxesSubplot at 0x1c46f57b00>"
      ]
     },
     "execution_count": 73,
     "metadata": {},
     "output_type": "execute_result"
    },
    {
     "data": {
      "image/png": "[encoded data removed]",
      "text/plain": [
       "<matplotlib.figure.Figure at 0x10c64f5f8>"
      ]
     },
     "metadata": {},
     "output_type": "display_data"
    }
   ],
   "source": [
    "specshow(np.exp(dataX[3, :, :]), sr=fs)"
   ]
  },
  {
   "cell_type": "code",
   "execution_count": 148,
   "metadata": {},
   "outputs": [
    {
     "data": {
      "text/plain": [
       "<matplotlib.axes._subplots.AxesSubplot at 0x1c53459c50>"
      ]
     },
     "execution_count": 148,
     "metadata": {},
     "output_type": "execute_result"
    },
    {
     "data": {
      "image/png": "[encoded data removed]",
      "text/plain": [
       "<matplotlib.figure.Figure at 0x1c46f94320>"
      ]
     },
     "metadata": {},
     "output_type": "display_data"
    }
   ],
   "source": [
    "specshow(NoiseReducer(np.exp(res[0])))"
   ]
  },
  {
   "cell_type": "code",
   "execution_count": 159,
   "metadata": {},
   "outputs": [],
   "source": [
    "def NoiseReducer(data):\n",
    "    foo = np.exp(data)\n",
    "    bar = np.percentile(np.ndarray.flatten(foo), 0.9)\n",
    "\n",
    "    for i in range(129):\n",
    "        for j in range(410):\n",
    "            if foo[i, j] <= bar:\n",
    "                foo[i, j] = 0.0\n",
    "    \n",
    "    return(foo)"
   ]
  },
  {
   "cell_type": "code",
   "execution_count": 76,
   "metadata": {},
   "outputs": [
    {
     "data": {
      "image/png": "[encoded data removed]",
      "text/plain": [
       "<matplotlib.figure.Figure at 0x1c470e8f28>"
      ]
     },
     "metadata": {},
     "output_type": "display_data"
    }
   ],
   "source": [
    "plt.imshow(np.exp(dataX[3, :, :]), cmap='hot', interpolation='nearest')\n",
    "plt.show()"
   ]
  },
  {
   "cell_type": "code",
   "execution_count": 156,
   "metadata": {},
   "outputs": [
    {
     "data": {
      "text/plain": [
       "4.5426911650557713e-05"
      ]
     },
     "execution_count": 156,
     "metadata": {},
     "output_type": "execute_result"
    }
   ],
   "source": [
    "np.exp(dataX[3, :, :])[100, 400]"
   ]
  },
  {
   "cell_type": "code",
   "execution_count": 160,
   "metadata": {},
   "outputs": [
    {
     "data": {
      "image/png": "[encoded data removed]",
      "text/plain": [
       "<matplotlib.figure.Figure at 0x1c47a07d30>"
      ]
     },
     "metadata": {},
     "output_type": "display_data"
    }
   ],
   "source": [
    "plt.imshow(NoiseReducer(np.exp(res[0])) + 1e-04, cmap='hot', interpolation='nearest')\n",
    "plt.show()"
   ]
  },
  {
   "cell_type": "code",
   "execution_count": 145,
   "metadata": {},
   "outputs": [],
   "source": [
    "res0 = NoiseReducer(np.exp(res[0])) * CheckX[2, :, :]\n",
    "res1 = NoiseReducer(np.exp(res[1])) * CheckX[0, :, :]\n",
    "\n",
    "res0 = librosa.istft(res0, hop_length=int(0.01 * 8000), window='hann')\n",
    "res1 = librosa.istft(res1, hop_length=int(0.01 * 8000), window='hann')\n",
    "\n",
    "res0 = librosa.effects.time_stretch(res0, len(res0)/ fs / 2)\n",
    "res1 = librosa.effects.time_stretch(res1, len(res1)/ fs / 2)\n",
    "\n",
    "librosa.output.write_wav('Original3.wav', res0, fs)\n",
    "librosa.output.write_wav('Original4.wav', res1, fs)"
   ]
  },
  {
   "cell_type": "code",
   "execution_count": 161,
   "metadata": {},
   "outputs": [],
   "source": [
    "data, fs = librosa.load('generated.wav')\n",
    "data = librosa.effects.time_stretch(data, len(data)/ fs )\n",
    "\n",
    "librosa.output.write_wav('G.wav', data, fs)"
   ]
  }
 ],
 "metadata": {
  "kernelspec": {
   "display_name": "Python [conda root]",
   "language": "python",
   "name": "conda-root-py"
  },
  "language_info": {
   "codemirror_mode": {
    "name": "ipython",
    "version": 3
   },
   "file_extension": ".py",
   "mimetype": "text/x-python",
   "name": "python",
   "nbconvert_exporter": "python",
   "pygments_lexer": "ipython3",
   "version": "3.6.3"
  }
 },
 "nbformat": 4,
 "nbformat_minor": 2
}
