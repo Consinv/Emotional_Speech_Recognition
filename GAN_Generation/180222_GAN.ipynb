{
 "cells": [
  {
   "cell_type": "markdown",
   "metadata": {},
   "source": [
    "## Preprocessing"
   ]
  },
  {
   "cell_type": "code",
   "execution_count": 1,
   "metadata": {},
   "outputs": [
    {
     "name": "stderr",
     "output_type": "stream",
     "text": [
      "/Users/hyunwoogu/anaconda3/lib/python3.6/importlib/_bootstrap.py:219: RuntimeWarning: compiletime version 3.5 of module 'tensorflow.python.framework.fast_tensor_util' does not match runtime version 3.6\n",
      "  return f(*args, **kwds)\n",
      "Using TensorFlow backend.\n"
     ]
    }
   ],
   "source": [
    "import tensorflow as tf\n",
    "import matplotlib.pyplot as plt\n",
    "import numpy as np\n",
    "import librosa\n",
    "import scipy.io.wavfile\n",
    "import os\n",
    "import math\n",
    "import matplotlib\n",
    "import scipy.stats\n",
    "\n",
    "from librosa.display import *\n",
    "from librosa.effects import *\n",
    "from keras.utils import to_categorical\n",
    "\n",
    "import matplotlib.pyplot as plt\n",
    "%matplotlib inline"
   ]
  },
  {
   "cell_type": "code",
   "execution_count": 2,
   "metadata": {},
   "outputs": [],
   "source": [
    "os.chdir('./Samples/')"
   ]
  },
  {
   "cell_type": "code",
   "execution_count": 3,
   "metadata": {},
   "outputs": [],
   "source": [
    "lists = []\n",
    "for wave in os.listdir(os.getcwd()):\n",
    "    if \"wav\" in wave:\n",
    "        lists.append(wave)\n",
    "        \n",
    "res = []\n",
    "\n",
    "for wave in lists:\n",
    "    data, fs = librosa.load(wave)\n",
    "    data = data/np.ptp(data)\n",
    "    res.append(data.shape[0])"
   ]
  },
  {
   "cell_type": "code",
   "execution_count": 4,
   "metadata": {},
   "outputs": [],
   "source": [
    "def onset(data):\n",
    "    cnt = 0  \n",
    "    for i in data:\n",
    "        cnt += 1\n",
    "        if i > 1e-2:\n",
    "            return(data[(cnt-1):])\n",
    "            break\n",
    "            \n",
    "def termin(data):\n",
    "    cnt = 0\n",
    "    for i in reversed(data):\n",
    "        cnt += 1\n",
    "        if i > 1e-2:\n",
    "            return(data[:(len(data)-cnt+1)])\n",
    "            break"
   ]
  },
  {
   "cell_type": "code",
   "execution_count": 5,
   "metadata": {},
   "outputs": [],
   "source": [
    "foo = 'Sad'\n",
    "bar = 'Happy'\n",
    "\n",
    "ListSad   = np.array(lists)[[i for i, v in enumerate(lists) if foo in v]]\n",
    "ListHappy = np.array(lists)[[i for i, v in enumerate(lists) if bar in v]]\n",
    "\n",
    "Happy_M = np.zeros([129, 410])\n",
    "Happy_P = np.zeros([129, 410])\n",
    "Sad_M   = np.zeros([129, 410])\n",
    "Sad_P   = np.zeros([129, 410])"
   ]
  },
  {
   "cell_type": "code",
   "execution_count": 6,
   "metadata": {},
   "outputs": [],
   "source": [
    "for wave in ListHappy:\n",
    "    data, fs = librosa.load(wave)\n",
    "    trimmed = onset(data)\n",
    "    trimmed = termin(trimmed)\n",
    "\n",
    "    trimmed = librosa.effects.time_stretch(trimmed, len(trimmed)/ fs / 1.5)\n",
    "\n",
    "    STFT    = librosa.stft(trimmed, n_fft=256, hop_length=int(0.01 * 8000), window='hann')\n",
    "    M, P    = librosa.magphase(STFT)\n",
    "    logM    = np.log(M)\n",
    "            \n",
    "    Happy_M = np.vstack((Happy_M, logM))\n",
    "    Happy_P = np.vstack((Happy_P, P))    \n",
    "        \n",
    "HappyX = np.reshape(Happy_M, [ListHappy.shape[0]+1, 129, 410])\n",
    "HappyX = HappyX[1:, :, :]\n",
    "HappyP = np.reshape(Happy_P, [ListHappy.shape[0]+1, 129, 410])\n",
    "HappyP = HappyP[1:, :, :]"
   ]
  },
  {
   "cell_type": "code",
   "execution_count": 8,
   "metadata": {},
   "outputs": [],
   "source": [
    "for wave in ListSad:\n",
    "    data, fs = librosa.load(wave)\n",
    "    trimmed = onset(data)\n",
    "    trimmed = termin(trimmed)\n",
    "\n",
    "    trimmed = librosa.effects.time_stretch(trimmed, len(trimmed)/ fs / 1.5)\n",
    "\n",
    "    STFT    = librosa.stft(trimmed, n_fft=256, hop_length=int(0.01 * 8000), window='hann')\n",
    "    M, P    = librosa.magphase(STFT)\n",
    "    logM    = np.log(M)\n",
    "            \n",
    "    Sad_M = np.vstack((Sad_M, logM))\n",
    "    Sad_P = np.vstack((Sad_P, P))    \n",
    "        \n",
    "SadX = np.reshape(Sad_M, [ListSad.shape[0]+1, 129, 410])\n",
    "SadX = SadX[1:, :, :]\n",
    "SadP = np.reshape(Sad_P, [ListSad.shape[0]+1, 129, 410])\n",
    "SadP = SadP[1:, :, :]"
   ]
  },
  {
   "cell_type": "code",
   "execution_count": 9,
   "metadata": {},
   "outputs": [],
   "source": [
    "dataX = np.vstack((HappyX, SadX))\n",
    "dataX = np.reshape(dataX, [9, 129, 410])\n",
    "dataY = np.repeat(np.array([1, 0]), [5, 4])\n",
    "\n",
    "CheckX = np.vstack((HappyP, SadP))\n",
    "CheckX = np.reshape(CheckX, [9, 129, 410])\n",
    "CheckY = np.repeat(np.array([1, 0]), [9, 400])"
   ]
  },
  {
   "cell_type": "code",
   "execution_count": 10,
   "metadata": {},
   "outputs": [],
   "source": [
    "inx = np.array(range(9))\n",
    "np.random.shuffle(inx)\n",
    "\n",
    "dataX = dataX[inx, :, :]\n",
    "dataY = dataY[inx]\n",
    "\n",
    "CheckX = CheckX[inx, :, :]\n",
    "CheckY = CheckY[inx]\n",
    "\n",
    "dataY = to_categorical(dataY, 2)"
   ]
  },
  {
   "cell_type": "markdown",
   "metadata": {},
   "source": [
    "## Model"
   ]
  },
  {
   "cell_type": "code",
   "execution_count": 13,
   "metadata": {},
   "outputs": [],
   "source": [
    "total_epoch = 300\n",
    "batch_size  = 9\n",
    "n_hidden = 256\n",
    "n_input  = 129 * 410\n",
    "n_noise  = 256\n",
    "n_class  = 2"
   ]
  },
  {
   "cell_type": "code",
   "execution_count": 11,
   "metadata": {},
   "outputs": [],
   "source": [
    "tf.reset_default_graph()"
   ]
  },
  {
   "cell_type": "code",
   "execution_count": 12,
   "metadata": {},
   "outputs": [
    {
     "ename": "NameError",
     "evalue": "name 'n_input' is not defined",
     "output_type": "error",
     "traceback": [
      "\u001b[0;31m---------------------------------------------------------------------------\u001b[0m",
      "\u001b[0;31mNameError\u001b[0m                                 Traceback (most recent call last)",
      "\u001b[0;32m<ipython-input-12-26386370c0dd>\u001b[0m in \u001b[0;36m<module>\u001b[0;34m()\u001b[0m\n\u001b[0;32m----> 1\u001b[0;31m \u001b[0mX\u001b[0m \u001b[0;34m=\u001b[0m \u001b[0mtf\u001b[0m\u001b[0;34m.\u001b[0m\u001b[0mplaceholder\u001b[0m\u001b[0;34m(\u001b[0m\u001b[0mtf\u001b[0m\u001b[0;34m.\u001b[0m\u001b[0mfloat32\u001b[0m\u001b[0;34m,\u001b[0m \u001b[0;34m[\u001b[0m\u001b[0;32mNone\u001b[0m\u001b[0;34m,\u001b[0m \u001b[0mn_input\u001b[0m\u001b[0;34m]\u001b[0m\u001b[0;34m)\u001b[0m\u001b[0;34m\u001b[0m\u001b[0m\n\u001b[0m\u001b[1;32m      2\u001b[0m \u001b[0mY\u001b[0m \u001b[0;34m=\u001b[0m \u001b[0mtf\u001b[0m\u001b[0;34m.\u001b[0m\u001b[0mplaceholder\u001b[0m\u001b[0;34m(\u001b[0m\u001b[0mtf\u001b[0m\u001b[0;34m.\u001b[0m\u001b[0mfloat32\u001b[0m\u001b[0;34m,\u001b[0m \u001b[0;34m[\u001b[0m\u001b[0;32mNone\u001b[0m\u001b[0;34m,\u001b[0m \u001b[0mn_class\u001b[0m\u001b[0;34m]\u001b[0m\u001b[0;34m)\u001b[0m\u001b[0;34m\u001b[0m\u001b[0m\n\u001b[1;32m      3\u001b[0m \u001b[0mZ\u001b[0m \u001b[0;34m=\u001b[0m \u001b[0mtf\u001b[0m\u001b[0;34m.\u001b[0m\u001b[0mplaceholder\u001b[0m\u001b[0;34m(\u001b[0m\u001b[0mtf\u001b[0m\u001b[0;34m.\u001b[0m\u001b[0mfloat32\u001b[0m\u001b[0;34m,\u001b[0m \u001b[0;34m[\u001b[0m\u001b[0;32mNone\u001b[0m\u001b[0;34m,\u001b[0m \u001b[0mn_noise\u001b[0m\u001b[0;34m]\u001b[0m\u001b[0;34m)\u001b[0m\u001b[0;34m\u001b[0m\u001b[0m\n",
      "\u001b[0;31mNameError\u001b[0m: name 'n_input' is not defined"
     ]
    }
   ],
   "source": [
    "X = tf.placeholder(tf.float32, [None, n_input])\n",
    "Y = tf.placeholder(tf.float32, [None, n_class])\n",
    "Z = tf.placeholder(tf.float32, [None, n_noise])"
   ]
  }
 ],
 "metadata": {
  "kernelspec": {
   "display_name": "Python [conda root]",
   "language": "python",
   "name": "conda-root-py"
  },
  "language_info": {
   "codemirror_mode": {
    "name": "ipython",
    "version": 3
   },
   "file_extension": ".py",
   "mimetype": "text/x-python",
   "name": "python",
   "nbconvert_exporter": "python",
   "pygments_lexer": "ipython3",
   "version": "3.6.3"
  }
 },
 "nbformat": 4,
 "nbformat_minor": 2
}
