{
 "cells": [
  {
   "cell_type": "markdown",
   "metadata": {},
   "source": [
    "# Emotion Detection via Pitch Information"
   ]
  },
  {
   "cell_type": "markdown",
   "metadata": {},
   "source": [
    "## Dataset Generation"
   ]
  },
  {
   "cell_type": "code",
   "execution_count": 1,
   "metadata": {
    "collapsed": true
   },
   "outputs": [],
   "source": [
    "%matplotlib inline\n",
    "import matplotlib.pyplot as plt\n",
    "import numpy as np\n",
    "import os\n",
    "import math\n",
    "import librosa\n",
    "import itertools\n",
    "\n",
    "import scipy.fftpack as sf\n",
    "from scipy.io import wavfile"
   ]
  },
  {
   "cell_type": "code",
   "execution_count": 2,
   "metadata": {},
   "outputs": [],
   "source": [
    "os.chdir(\"/Users/hyunwoogu/Dropbox/2018MARG/Emotion Recognition/Dataset/RAVDESS\")"
   ]
  },
  {
   "cell_type": "code",
   "execution_count": 3,
   "metadata": {},
   "outputs": [],
   "source": [
    "def Frequency(X, F_sample, Low_cutoff=80, High_cutoff= 300):\n",
    "        M = X.size \n",
    "        if M==0:\n",
    "            return np.array([0])\n",
    "        \n",
    "        Spectrum = sf.rfft(X, n=M) \n",
    "        [Low_cutoff, High_cutoff, F_sample] = map(float, [Low_cutoff, High_cutoff, F_sample])\n",
    "\n",
    "        [Low_point, High_point] = map(lambda F: F/F_sample * M, [Low_cutoff, High_cutoff])\n",
    "        [Low_point, High_point] = map(int, [Low_cutoff, High_cutoff])\n",
    "        \n",
    "        if Spectrum[Low_point : High_point].size == 0:\n",
    "            return(0)\n",
    "\n",
    "        maximumFrequency = np.where(Spectrum == np.max(Spectrum[Low_point : High_point]))\n",
    "        \n",
    "        return maximumFrequency"
   ]
  },
  {
   "cell_type": "code",
   "execution_count": 12,
   "metadata": {},
   "outputs": [],
   "source": [
    "Happy = \"03-01-03-{0[0]:02d}-{0[1]:02d}-{0[2]:02d}-{0[3]:02d}.wav\"\n",
    "Sad   = \"03-01-04-{0[0]:02d}-{0[1]:02d}-{0[2]:02d}-{0[3]:02d}.wav\"\n",
    "\n",
    "Happy_train = np.zeros(10)\n",
    "\n",
    "k = [(1, 1, 1), (1, 1, 2), (1, 2, 1), (1, 2, 2), (2, 1, 1), (2, 1, 2), (2, 2, 1), (2, 2, 2)]"
   ]
  },
  {
   "cell_type": "code",
   "execution_count": 20,
   "metadata": {},
   "outputs": [],
   "source": [
    "Sad_train   = np.zeros(10)"
   ]
  },
  {
   "cell_type": "code",
   "execution_count": 13,
   "metadata": {
    "collapsed": true
   },
   "outputs": [],
   "source": [
    "for i in k:\n",
    "    for j in range(1, 25):\n",
    "        index = (i, j)\n",
    "        index = index[0] + (index[1],)\n",
    "        \n",
    "        files    = Happy.format(index)\n",
    "        data, fs = librosa.load(files)\n",
    "\n",
    "        n    = data.size\n",
    "\n",
    "        EffectiveInx= np.argwhere(data > 0.001)\n",
    "        Effective   = data[EffectiveInx]\n",
    "        n           = Effective.size\n",
    "\n",
    "        step          = math.floor(n / 100)\n",
    "        mx_res= mn_res= np.array([])\n",
    "\n",
    "        for l in range(10):\n",
    "            now = range(step*l, step*(l+1))\n",
    "            mx  = Frequency(np.reshape(Effective[now], step), fs)\n",
    "            mx_res = np.append(mx_res, mx)\n",
    "\n",
    "        mx_res_mean = np.mean(mx_res)\n",
    "        mx_res_std  = np.std(mx_res)\n",
    "        mx_res      = (mx_res-mx_res_mean)/(mx_res_std+1e-3)\n",
    "        \n",
    "        Happy_train = np.vstack((Happy_train, mx_res))\n",
    "\n",
    "Happy_train = np.delete(Happy_train, 0, 0)"
   ]
  },
  {
   "cell_type": "code",
   "execution_count": 6,
   "metadata": {},
   "outputs": [],
   "source": [
    "data, fs = librosa.load('03-01-03-01-01-02-06.wav')\n",
    "n    = data.size\n",
    "\n",
    "EffectiveInx= np.argwhere(data > 0.001)\n",
    "Effective   = data[EffectiveInx]\n",
    "n           = Effective.size\n",
    "\n",
    "step          = math.floor(n / 100)\n",
    "mx_res= mn_res= np.array([])\n",
    "\n",
    "for l in range(10):\n",
    "    now = range(step*l, step*(l+1))\n",
    "    mx  = Frequency(np.reshape(Effective[now], step), fs)\n",
    "    mx_res = np.append(mx_res, mx)\n",
    "\n",
    "mx_res_mean = np.mean(mx_res)\n",
    "mx_res_std  = np.std(mx_res)\n",
    "mx_res      = (mx_res-mx_res_mean)/(mx_res_std+1e-3)"
   ]
  },
  {
   "cell_type": "code",
   "execution_count": 20,
   "metadata": {},
   "outputs": [],
   "source": [
    "data, fs = librosa.load('03-01-03-01-01-02-06.wav')\n",
    "n    = data.size\n",
    "\n",
    "EffectiveInx= np.argwhere((data > 0.010) | (data < -0.001))\n",
    "Effective   = data[EffectiveInx]"
   ]
  },
  {
   "cell_type": "code",
   "execution_count": 21,
   "metadata": {},
   "outputs": [
    {
     "data": {
      "text/plain": [
       "[<matplotlib.lines.Line2D at 0x1c0d448908>]"
      ]
     },
     "execution_count": 21,
     "metadata": {},
     "output_type": "execute_result"
    },
    {
     "data": {
      "image/png": "[encoded data removed]",
      "text/plain": [
       "<matplotlib.figure.Figure at 0x1c0d3b4400>"
      ]
     },
     "metadata": {},
     "output_type": "display_data"
    }
   ],
   "source": [
    "plt.plot(range(len(Effective)), Effective)"
   ]
  },
  {
   "cell_type": "code",
   "execution_count": 18,
   "metadata": {},
   "outputs": [
    {
     "data": {
      "text/plain": [
       "[<matplotlib.lines.Line2D at 0x1c2fa120b8>]"
      ]
     },
     "execution_count": 18,
     "metadata": {},
     "output_type": "execute_result"
    },
    {
     "data": {
      "image/png": "[encoded data removed]",
      "text/plain": [
       "<matplotlib.figure.Figure at 0x1c2fa5e2b0>"
      ]
     },
     "metadata": {},
     "output_type": "display_data"
    }
   ],
   "source": [
    "plt.plot(range(10), Happy_train[4])"
   ]
  },
  {
   "cell_type": "code",
   "execution_count": 21,
   "metadata": {},
   "outputs": [],
   "source": [
    "for i in k:\n",
    "    for j in range(1, 25):\n",
    "        index = (i, j)\n",
    "        index = index[0] + (index[1],)\n",
    "        \n",
    "        files    = Sad.format(index)\n",
    "        data, fs = librosa.load(files)\n",
    "\n",
    "        n    = data.size\n",
    "\n",
    "        EffectiveInx= np.argwhere(data > 0.001)\n",
    "        Effective   = data[EffectiveInx]\n",
    "        n           = Effective.size\n",
    "\n",
    "        step          = math.floor(n / 100)\n",
    "        mx_res= mn_res= np.array([])\n",
    "\n",
    "        for l in range(10):\n",
    "            now = range(step*l, step*(l+1))\n",
    "            mx  = Frequency(np.reshape(Effective[now], step), fs)\n",
    "            mx_res = np.append(mx_res, mx)\n",
    "\n",
    "        mx_res_mean = np.mean(mx_res)\n",
    "        mx_res_std  = np.std(mx_res)\n",
    "        mx_res      = (mx_res-mx_res_mean)/(mx_res_std+1e-3)\n",
    "        \n",
    "        Sad_train = np.vstack((Sad_train, mx_res))\n",
    "\n",
    "Sad_train = np.delete(Sad_train, 0, 0)"
   ]
  },
  {
   "cell_type": "code",
   "execution_count": 22,
   "metadata": {},
   "outputs": [],
   "source": [
    "HT = np.ones((192, 11))\n",
    "ST = np.zeros((192, 11))\n",
    "\n",
    "HT[:, :-1] = Happy_train\n",
    "ST[:, :-1] = Sad_train"
   ]
  },
  {
   "cell_type": "code",
   "execution_count": 23,
   "metadata": {},
   "outputs": [],
   "source": [
    "train = np.vstack((HT, ST))\n",
    "np.random.shuffle(train)\n",
    "\n",
    "TrainSet = train[range(300),:]\n",
    "TestSet  = train[range(300,384),:]"
   ]
  },
  {
   "cell_type": "markdown",
   "metadata": {},
   "source": [
    "## Model"
   ]
  },
  {
   "cell_type": "code",
   "execution_count": 1,
   "metadata": {},
   "outputs": [
    {
     "name": "stderr",
     "output_type": "stream",
     "text": [
      "Using TensorFlow backend.\n",
      "/Users/hyunwoogu/anaconda3/lib/python3.6/importlib/_bootstrap.py:219: RuntimeWarning: compiletime version 3.5 of module 'tensorflow.python.framework.fast_tensor_util' does not match runtime version 3.6\n",
      "  return f(*args, **kwds)\n"
     ]
    }
   ],
   "source": [
    "import keras\n",
    "import numpy as np\n",
    "from keras.models import Sequential\n",
    "from keras.layers import Dense\n",
    "from keras.layers import LSTM\n",
    "from keras.utils import np_utils"
   ]
  },
  {
   "cell_type": "code",
   "execution_count": 24,
   "metadata": {},
   "outputs": [],
   "source": [
    "class LossHistory(keras.callbacks.Callback):\n",
    "    def init(self):\n",
    "        self.losses = []\n",
    "        \n",
    "    def on_epoch_end(self, batch, logs={}):\n",
    "        self.losses.append(logs.get('loss'))"
   ]
  },
  {
   "cell_type": "code",
   "execution_count": 25,
   "metadata": {},
   "outputs": [],
   "source": [
    "xTrain = TrainSet[:,0:10]\n",
    "yTrain = TrainSet[:,10]\n",
    "\n",
    "xTest  = TestSet[:,0:10]\n",
    "yTest  = TestSet[:,10]"
   ]
  },
  {
   "cell_type": "code",
   "execution_count": 26,
   "metadata": {},
   "outputs": [],
   "source": [
    "xTrain = np.reshape(xTrain, (300, 10, 1))\n",
    "yTrain = np_utils.to_categorical(yTrain)\n",
    "oneHotVecSize = yTrain.shape[1]"
   ]
  },
  {
   "cell_type": "code",
   "execution_count": 34,
   "metadata": {},
   "outputs": [],
   "source": [
    "model = Sequential()\n",
    "model.add(LSTM(128, input_shape = (10, 1)))\n",
    "model.add(Dense(oneHotVecSize, activation='softmax'))\n",
    "model.compile(loss='categorical_crossentropy', optimizer='adam', metrics=['accuracy'])"
   ]
  },
  {
   "cell_type": "code",
   "execution_count": 35,
   "metadata": {},
   "outputs": [],
   "source": [
    "history = LossHistory()\n",
    "history.init()"
   ]
  },
  {
   "cell_type": "markdown",
   "metadata": {},
   "source": [
    "## Train!"
   ]
  },
  {
   "cell_type": "code",
   "execution_count": 36,
   "metadata": {},
   "outputs": [
    {
     "name": "stdout",
     "output_type": "stream",
     "text": [
      "Epoch 1/200\n",
      " - 2s - loss: 0.6949 - acc: 0.4667\n",
      "Epoch 2/200\n",
      " - 0s - loss: 0.6932 - acc: 0.4967\n",
      "Epoch 3/200\n",
      " - 0s - loss: 0.6935 - acc: 0.5000\n",
      "Epoch 4/200\n",
      " - 0s - loss: 0.6920 - acc: 0.4967\n",
      "Epoch 5/200\n",
      " - 0s - loss: 0.6910 - acc: 0.5100\n",
      "Epoch 6/200\n",
      " - 0s - loss: 0.6910 - acc: 0.5200\n",
      "Epoch 7/200\n",
      " - 0s - loss: 0.6893 - acc: 0.5367\n",
      "Epoch 8/200\n",
      " - 0s - loss: 0.6915 - acc: 0.5367\n",
      "Epoch 9/200\n",
      " - 0s - loss: 0.6867 - acc: 0.5633\n",
      "Epoch 10/200\n",
      " - 0s - loss: 0.6862 - acc: 0.5900\n",
      "Epoch 11/200\n",
      " - 0s - loss: 0.6909 - acc: 0.5567\n",
      "Epoch 12/200\n",
      " - 0s - loss: 0.6837 - acc: 0.5933\n",
      "Epoch 13/200\n",
      " - 0s - loss: 0.6842 - acc: 0.5767\n",
      "Epoch 14/200\n",
      " - 0s - loss: 0.6853 - acc: 0.5700\n",
      "Epoch 15/200\n",
      " - 0s - loss: 0.6825 - acc: 0.5867\n",
      "Epoch 16/200\n",
      " - 0s - loss: 0.6899 - acc: 0.5733\n",
      "Epoch 17/200\n",
      " - 0s - loss: 0.6791 - acc: 0.5900\n",
      "Epoch 18/200\n",
      " - 0s - loss: 0.6787 - acc: 0.5933\n",
      "Epoch 19/200\n",
      " - 0s - loss: 0.6784 - acc: 0.6067\n",
      "Epoch 20/200\n",
      " - 0s - loss: 0.6787 - acc: 0.5933\n",
      "Epoch 21/200\n",
      " - 0s - loss: 0.6777 - acc: 0.5867\n",
      "Epoch 22/200\n",
      " - 0s - loss: 0.6733 - acc: 0.5833\n",
      "Epoch 23/200\n",
      " - 0s - loss: 0.6706 - acc: 0.6033\n",
      "Epoch 24/200\n",
      " - 0s - loss: 0.6749 - acc: 0.6200\n",
      "Epoch 25/200\n",
      " - 0s - loss: 0.6672 - acc: 0.5767\n",
      "Epoch 26/200\n",
      " - 0s - loss: 0.6544 - acc: 0.5867\n",
      "Epoch 27/200\n",
      " - 0s - loss: 0.6410 - acc: 0.6067\n",
      "Epoch 28/200\n",
      " - 0s - loss: 0.6405 - acc: 0.6133\n",
      "Epoch 29/200\n",
      " - 0s - loss: 0.6348 - acc: 0.6000\n",
      "Epoch 30/200\n",
      " - 0s - loss: 0.6282 - acc: 0.6233\n",
      "Epoch 31/200\n",
      " - 0s - loss: 0.6219 - acc: 0.6567\n",
      "Epoch 32/200\n",
      " - 0s - loss: 0.6184 - acc: 0.6500\n",
      "Epoch 33/200\n",
      " - 0s - loss: 0.6165 - acc: 0.6533\n",
      "Epoch 34/200\n",
      " - 0s - loss: 0.6110 - acc: 0.6367\n",
      "Epoch 35/200\n",
      " - 0s - loss: 0.6152 - acc: 0.6500\n",
      "Epoch 36/200\n",
      " - 0s - loss: 0.6190 - acc: 0.6300\n",
      "Epoch 37/200\n",
      " - 0s - loss: 0.6260 - acc: 0.6500\n",
      "Epoch 38/200\n",
      " - 0s - loss: 0.6416 - acc: 0.6133\n",
      "Epoch 39/200\n",
      " - 0s - loss: 0.6143 - acc: 0.6567\n",
      "Epoch 40/200\n",
      " - 0s - loss: 0.6007 - acc: 0.6633\n",
      "Epoch 41/200\n",
      " - 0s - loss: 0.6024 - acc: 0.6433\n",
      "Epoch 42/200\n",
      " - 0s - loss: 0.5966 - acc: 0.6567\n",
      "Epoch 43/200\n",
      " - 0s - loss: 0.5904 - acc: 0.6567\n",
      "Epoch 44/200\n",
      " - 0s - loss: 0.5946 - acc: 0.6967\n",
      "Epoch 45/200\n",
      " - 0s - loss: 0.5865 - acc: 0.6900\n",
      "Epoch 46/200\n",
      " - 0s - loss: 0.5748 - acc: 0.6967\n",
      "Epoch 47/200\n",
      " - 0s - loss: 0.5881 - acc: 0.6633\n",
      "Epoch 48/200\n",
      " - 0s - loss: 0.5859 - acc: 0.6800\n",
      "Epoch 49/200\n",
      " - 0s - loss: 0.5724 - acc: 0.6867\n",
      "Epoch 50/200\n",
      " - 0s - loss: 0.5546 - acc: 0.7067\n",
      "Epoch 51/200\n",
      " - 0s - loss: 0.5801 - acc: 0.6767\n",
      "Epoch 52/200\n",
      " - 0s - loss: 0.5588 - acc: 0.7200\n",
      "Epoch 53/200\n",
      " - 0s - loss: 0.5678 - acc: 0.7033\n",
      "Epoch 54/200\n",
      " - 0s - loss: 0.5848 - acc: 0.6767\n",
      "Epoch 55/200\n",
      " - 0s - loss: 0.5529 - acc: 0.7200\n",
      "Epoch 56/200\n",
      " - 0s - loss: 0.5553 - acc: 0.7167\n",
      "Epoch 57/200\n",
      " - 0s - loss: 0.5361 - acc: 0.7100\n",
      "Epoch 58/200\n",
      " - 0s - loss: 0.5413 - acc: 0.7200\n",
      "Epoch 59/200\n",
      " - 0s - loss: 0.5155 - acc: 0.7500\n",
      "Epoch 60/200\n",
      " - 0s - loss: 0.5318 - acc: 0.7133\n",
      "Epoch 61/200\n",
      " - 0s - loss: 0.5121 - acc: 0.7333\n",
      "Epoch 62/200\n",
      " - 0s - loss: 0.5022 - acc: 0.7433\n",
      "Epoch 63/200\n",
      " - 0s - loss: 0.4962 - acc: 0.7300\n",
      "Epoch 64/200\n",
      " - 0s - loss: 0.4959 - acc: 0.7333\n",
      "Epoch 65/200\n",
      " - 0s - loss: 0.4882 - acc: 0.7433\n",
      "Epoch 66/200\n",
      " - 0s - loss: 0.4966 - acc: 0.7100\n",
      "Epoch 67/200\n",
      " - 0s - loss: 0.4755 - acc: 0.7300\n",
      "Epoch 68/200\n",
      " - 0s - loss: 0.4803 - acc: 0.7667\n",
      "Epoch 69/200\n",
      " - 0s - loss: 0.4525 - acc: 0.7800\n",
      "Epoch 70/200\n",
      " - 0s - loss: 0.4551 - acc: 0.7700\n",
      "Epoch 71/200\n",
      " - 0s - loss: 0.4473 - acc: 0.7667\n",
      "Epoch 72/200\n",
      " - 0s - loss: 0.4266 - acc: 0.7700\n",
      "Epoch 73/200\n",
      " - 0s - loss: 0.4222 - acc: 0.8000\n",
      "Epoch 74/200\n",
      " - 0s - loss: 0.4375 - acc: 0.7767\n",
      "Epoch 75/200\n",
      " - 0s - loss: 0.4031 - acc: 0.8100\n",
      "Epoch 76/200\n",
      " - 0s - loss: 0.3848 - acc: 0.8067\n",
      "Epoch 77/200\n",
      " - 0s - loss: 0.3711 - acc: 0.8233\n",
      "Epoch 78/200\n",
      " - 0s - loss: 0.3737 - acc: 0.8000\n",
      "Epoch 79/200\n",
      " - 0s - loss: 0.3681 - acc: 0.8333\n",
      "Epoch 80/200\n",
      " - 0s - loss: 0.3517 - acc: 0.8500\n",
      "Epoch 81/200\n",
      " - 0s - loss: 0.3445 - acc: 0.8433\n",
      "Epoch 82/200\n",
      " - 0s - loss: 0.3500 - acc: 0.8233\n",
      "Epoch 83/200\n",
      " - 0s - loss: 0.3560 - acc: 0.8300\n",
      "Epoch 84/200\n",
      " - 0s - loss: 0.3257 - acc: 0.8367\n",
      "Epoch 85/200\n",
      " - 0s - loss: 0.3042 - acc: 0.8767\n",
      "Epoch 86/200\n",
      " - 0s - loss: 0.2693 - acc: 0.8833\n",
      "Epoch 87/200\n",
      " - 0s - loss: 0.2914 - acc: 0.8567\n",
      "Epoch 88/200\n",
      " - 0s - loss: 0.2751 - acc: 0.8867\n",
      "Epoch 89/200\n",
      " - 0s - loss: 0.2645 - acc: 0.8767\n",
      "Epoch 90/200\n",
      " - 0s - loss: 0.2193 - acc: 0.9100\n",
      "Epoch 91/200\n",
      " - 0s - loss: 0.1994 - acc: 0.9200\n",
      "Epoch 92/200\n",
      " - 0s - loss: 0.2443 - acc: 0.8967\n",
      "Epoch 93/200\n",
      " - 0s - loss: 0.2907 - acc: 0.8867\n",
      "Epoch 94/200\n",
      " - 0s - loss: 0.2440 - acc: 0.8800\n",
      "Epoch 95/200\n",
      " - 0s - loss: 0.2209 - acc: 0.8967\n",
      "Epoch 96/200\n",
      " - 0s - loss: 0.2053 - acc: 0.9233\n",
      "Epoch 97/200\n",
      " - 0s - loss: 0.1572 - acc: 0.9533\n",
      "Epoch 98/200\n",
      " - 0s - loss: 0.1711 - acc: 0.9400\n",
      "Epoch 99/200\n",
      " - 0s - loss: 0.2556 - acc: 0.8967\n",
      "Epoch 100/200\n",
      " - 0s - loss: 0.1542 - acc: 0.9467\n",
      "Epoch 101/200\n",
      " - 0s - loss: 0.1279 - acc: 0.9500\n",
      "Epoch 102/200\n",
      " - 0s - loss: 0.1139 - acc: 0.9533\n",
      "Epoch 103/200\n",
      " - 0s - loss: 0.1034 - acc: 0.9667\n",
      "Epoch 104/200\n",
      " - 0s - loss: 0.1169 - acc: 0.9533\n",
      "Epoch 105/200\n",
      " - 0s - loss: 0.1134 - acc: 0.9567\n",
      "Epoch 106/200\n",
      " - 0s - loss: 0.0918 - acc: 0.9733\n",
      "Epoch 107/200\n",
      " - 0s - loss: 0.0855 - acc: 0.9700\n",
      "Epoch 108/200\n",
      " - 0s - loss: 0.0984 - acc: 0.9633\n",
      "Epoch 109/200\n",
      " - 0s - loss: 0.0954 - acc: 0.9633\n",
      "Epoch 110/200\n",
      " - 0s - loss: 0.0973 - acc: 0.9633\n",
      "Epoch 111/200\n",
      " - 0s - loss: 0.0868 - acc: 0.9700\n",
      "Epoch 112/200\n",
      " - 0s - loss: 0.1278 - acc: 0.9467\n",
      "Epoch 113/200\n",
      " - 0s - loss: 0.1418 - acc: 0.9433\n",
      "Epoch 114/200\n",
      " - 0s - loss: 0.0967 - acc: 0.9700\n",
      "Epoch 115/200\n",
      " - 0s - loss: 0.0732 - acc: 0.9833\n",
      "Epoch 116/200\n",
      " - 0s - loss: 0.0586 - acc: 0.9867\n",
      "Epoch 117/200\n",
      " - 0s - loss: 0.0499 - acc: 0.9833\n",
      "Epoch 118/200\n",
      " - 0s - loss: 0.0545 - acc: 0.9833\n",
      "Epoch 119/200\n",
      " - 0s - loss: 0.0455 - acc: 0.9833\n",
      "Epoch 120/200\n",
      " - 0s - loss: 0.0446 - acc: 0.9800\n",
      "Epoch 121/200\n",
      " - 0s - loss: 0.0402 - acc: 0.9933\n",
      "Epoch 122/200\n",
      " - 0s - loss: 0.0341 - acc: 0.9900\n",
      "Epoch 123/200\n",
      " - 0s - loss: 0.0398 - acc: 0.9867\n",
      "Epoch 124/200\n",
      " - 0s - loss: 0.0359 - acc: 0.9900\n",
      "Epoch 125/200\n",
      " - 0s - loss: 0.0294 - acc: 0.9900\n",
      "Epoch 126/200\n",
      " - 0s - loss: 0.0261 - acc: 0.9967\n",
      "Epoch 127/200\n",
      " - 0s - loss: 0.0259 - acc: 0.9933\n",
      "Epoch 128/200\n",
      " - 0s - loss: 0.0538 - acc: 0.9800\n",
      "Epoch 129/200\n",
      " - 0s - loss: 0.1078 - acc: 0.9600\n",
      "Epoch 130/200\n",
      " - 0s - loss: 0.1177 - acc: 0.9533\n",
      "Epoch 131/200\n",
      " - 0s - loss: 0.3166 - acc: 0.8867\n",
      "Epoch 132/200\n",
      " - 0s - loss: 0.2002 - acc: 0.9267\n",
      "Epoch 133/200\n",
      " - 0s - loss: 0.1347 - acc: 0.9467\n",
      "Epoch 134/200\n",
      " - 0s - loss: 0.0865 - acc: 0.9633\n",
      "Epoch 135/200\n",
      " - 0s - loss: 0.0883 - acc: 0.9667\n",
      "Epoch 136/200\n",
      " - 0s - loss: 0.0520 - acc: 0.9867\n",
      "Epoch 137/200\n",
      " - 0s - loss: 0.0387 - acc: 0.9867\n",
      "Epoch 138/200\n",
      " - 0s - loss: 0.0301 - acc: 0.9967\n",
      "Epoch 139/200\n",
      " - 0s - loss: 0.0250 - acc: 0.9933\n",
      "Epoch 140/200\n",
      " - 0s - loss: 0.0222 - acc: 0.9967\n",
      "Epoch 141/200\n",
      " - 0s - loss: 0.0288 - acc: 0.9900\n",
      "Epoch 142/200\n",
      " - 0s - loss: 0.0202 - acc: 0.9967\n",
      "Epoch 143/200\n",
      " - 0s - loss: 0.0187 - acc: 0.9967\n",
      "Epoch 144/200\n",
      " - 0s - loss: 0.0185 - acc: 1.0000\n",
      "Epoch 145/200\n",
      " - 0s - loss: 0.0160 - acc: 1.0000\n",
      "Epoch 146/200\n",
      " - 0s - loss: 0.0150 - acc: 0.9967\n",
      "Epoch 147/200\n",
      " - 0s - loss: 0.0133 - acc: 0.9967\n",
      "Epoch 148/200\n",
      " - 0s - loss: 0.0134 - acc: 1.0000\n",
      "Epoch 149/200\n",
      " - 0s - loss: 0.0134 - acc: 0.9967\n",
      "Epoch 150/200\n",
      " - 0s - loss: 0.0115 - acc: 1.0000\n",
      "Epoch 151/200\n",
      " - 0s - loss: 0.0111 - acc: 0.9967\n",
      "Epoch 152/200\n",
      " - 0s - loss: 0.0099 - acc: 1.0000\n",
      "Epoch 153/200\n",
      " - 0s - loss: 0.0096 - acc: 1.0000\n",
      "Epoch 154/200\n",
      " - 0s - loss: 0.0090 - acc: 1.0000\n",
      "Epoch 155/200\n",
      " - 0s - loss: 0.0087 - acc: 1.0000\n",
      "Epoch 156/200\n",
      " - 0s - loss: 0.0082 - acc: 1.0000\n",
      "Epoch 157/200\n",
      " - 0s - loss: 0.0080 - acc: 1.0000\n",
      "Epoch 158/200\n",
      " - 0s - loss: 0.0076 - acc: 1.0000\n",
      "Epoch 159/200\n",
      " - 0s - loss: 0.0070 - acc: 1.0000\n",
      "Epoch 160/200\n",
      " - 0s - loss: 0.0067 - acc: 1.0000\n",
      "Epoch 161/200\n",
      " - 0s - loss: 0.0064 - acc: 1.0000\n",
      "Epoch 162/200\n",
      " - 0s - loss: 0.0062 - acc: 1.0000\n",
      "Epoch 163/200\n",
      " - 0s - loss: 0.0059 - acc: 1.0000\n",
      "Epoch 164/200\n",
      " - 0s - loss: 0.0058 - acc: 1.0000\n",
      "Epoch 165/200\n",
      " - 0s - loss: 0.0053 - acc: 1.0000\n",
      "Epoch 166/200\n",
      " - 0s - loss: 0.0050 - acc: 1.0000\n",
      "Epoch 167/200\n",
      " - 0s - loss: 0.0049 - acc: 1.0000\n",
      "Epoch 168/200\n",
      " - 0s - loss: 0.0047 - acc: 1.0000\n",
      "Epoch 169/200\n",
      " - 0s - loss: 0.0045 - acc: 1.0000\n",
      "Epoch 170/200\n",
      " - 0s - loss: 0.0042 - acc: 1.0000\n",
      "Epoch 171/200\n",
      " - 0s - loss: 0.0042 - acc: 1.0000\n",
      "Epoch 172/200\n",
      " - 0s - loss: 0.0044 - acc: 1.0000\n",
      "Epoch 173/200\n",
      " - 0s - loss: 0.0039 - acc: 1.0000\n",
      "Epoch 174/200\n",
      " - 0s - loss: 0.0036 - acc: 1.0000\n",
      "Epoch 175/200\n",
      " - 0s - loss: 0.0036 - acc: 1.0000\n",
      "Epoch 176/200\n",
      " - 0s - loss: 0.0034 - acc: 1.0000\n",
      "Epoch 177/200\n",
      " - 0s - loss: 0.0031 - acc: 1.0000\n",
      "Epoch 178/200\n",
      " - 0s - loss: 0.0031 - acc: 1.0000\n",
      "Epoch 179/200\n",
      " - 0s - loss: 0.0030 - acc: 1.0000\n",
      "Epoch 180/200\n",
      " - 0s - loss: 0.0028 - acc: 1.0000\n",
      "Epoch 181/200\n",
      " - 0s - loss: 0.0027 - acc: 1.0000\n",
      "Epoch 182/200\n",
      " - 0s - loss: 0.0025 - acc: 1.0000\n",
      "Epoch 183/200\n",
      " - 0s - loss: 0.0025 - acc: 1.0000\n",
      "Epoch 184/200\n",
      " - 0s - loss: 0.0025 - acc: 1.0000\n",
      "Epoch 185/200\n",
      " - 0s - loss: 0.0023 - acc: 1.0000\n",
      "Epoch 186/200\n",
      " - 0s - loss: 0.0022 - acc: 1.0000\n",
      "Epoch 187/200\n",
      " - 0s - loss: 0.0022 - acc: 1.0000\n",
      "Epoch 188/200\n",
      " - 0s - loss: 0.0021 - acc: 1.0000\n",
      "Epoch 189/200\n",
      " - 0s - loss: 0.0019 - acc: 1.0000\n",
      "Epoch 190/200\n",
      " - 0s - loss: 0.0019 - acc: 1.0000\n",
      "Epoch 191/200\n",
      " - 0s - loss: 0.0019 - acc: 1.0000\n",
      "Epoch 192/200\n",
      " - 0s - loss: 0.0018 - acc: 1.0000\n",
      "Epoch 193/200\n",
      " - 0s - loss: 0.0017 - acc: 1.0000\n",
      "Epoch 194/200\n",
      " - 0s - loss: 0.0017 - acc: 1.0000\n",
      "Epoch 195/200\n",
      " - 0s - loss: 0.0016 - acc: 1.0000\n",
      "Epoch 196/200\n",
      " - 0s - loss: 0.0016 - acc: 1.0000\n",
      "Epoch 197/200\n",
      " - 0s - loss: 0.0015 - acc: 1.0000\n",
      "Epoch 198/200\n",
      " - 0s - loss: 0.0015 - acc: 1.0000\n",
      "Epoch 199/200\n",
      " - 0s - loss: 0.0014 - acc: 1.0000\n",
      "Epoch 200/200\n",
      " - 0s - loss: 0.0014 - acc: 1.0000\n"
     ]
    },
    {
     "data": {
      "image/png": "[encoded data removed]",
      "text/plain": [
       "<matplotlib.figure.Figure at 0x1829664588>"
      ]
     },
     "metadata": {},
     "output_type": "display_data"
    },
    {
     "name": "stdout",
     "output_type": "stream",
     "text": [
      "300/300 [==============================] - 0s 319us/step\n",
      "acc: 100.00%\n"
     ]
    }
   ],
   "source": [
    "model.fit(xTrain, yTrain, epochs=200, batch_size=14, verbose=2, callbacks=[history])\n",
    "plt.plot(history.losses)\n",
    "plt.ylabel('loss')\n",
    "plt.xlabel('epoch')\n",
    "plt.legend(['train'], loc='upper left')\n",
    "plt.show()\n",
    "\n",
    "scores = model.evaluate(xTrain, yTrain)\n",
    "print(\"%s: %.2f%%\" %(model.metrics_names[1], scores[1]*100))"
   ]
  },
  {
   "cell_type": "code",
   "execution_count": 37,
   "metadata": {},
   "outputs": [
    {
     "data": {
      "text/plain": [
       "0.44047619047619047"
      ]
     },
     "execution_count": 37,
     "metadata": {},
     "output_type": "execute_result"
    }
   ],
   "source": [
    "seq_out  = []\n",
    "pred_out = model.predict(np.reshape(xTest, [84,10,1]))\n",
    "\n",
    "for i in range(84):\n",
    "    idx = np.argmax(pred_out[i])\n",
    "    seq_out.append([idx]) \n",
    "    \n",
    "predicted = np.reshape(seq_out, [84])\n",
    "np.mean(predicted == yTest)"
   ]
  },
  {
   "cell_type": "code",
   "execution_count": 44,
   "metadata": {},
   "outputs": [],
   "source": [
    "model.save_weights(\"weight.hdf5\")"
   ]
  },
  {
   "cell_type": "markdown",
   "metadata": {},
   "source": [
    "## Prediction"
   ]
  },
  {
   "cell_type": "code",
   "execution_count": 38,
   "metadata": {},
   "outputs": [],
   "source": [
    "os.chdir(\"/Users/hyunwoogu/Dropbox/2018MARG/Emotion Recognition/Emotional Speech Recognition/pitch_detection\")"
   ]
  },
  {
   "cell_type": "code",
   "execution_count": 39,
   "metadata": {},
   "outputs": [],
   "source": [
    "def PredictEmotion(files):\n",
    "    data, fs = librosa.load(files)\n",
    "    n    = data.size\n",
    "    \n",
    "    EffectiveInx= np.argwhere(data > 0.001)\n",
    "    Effective   = data[EffectiveInx]\n",
    "    n           = Effective.size\n",
    "\n",
    "    step          = math.floor(n / 100)\n",
    "    mx_res= mn_res= np.array([])\n",
    "\n",
    "    for l in range(10):\n",
    "        now = range(step*l, step*(l+1))\n",
    "        mx  = Frequency(np.reshape(Effective[now], step), fs)\n",
    "        mx_res = np.append(mx_res, mx)\n",
    "\n",
    "    mx_res_mean = np.mean(mx_res)\n",
    "    mx_res_std  = np.std(mx_res)\n",
    "    mx_res      = (mx_res-mx_res_mean)/(mx_res_std+1e-3)\n",
    "    \n",
    "    res = np.argmax(model.predict(np.reshape(mx_res, [1, 10, 1])))\n",
    "    if res == 0:\n",
    "        return(\"You are Sad:(\")\n",
    "    elif res == 1:\n",
    "        return(\"You are Happy:)\")"
   ]
  },
  {
   "cell_type": "code",
   "execution_count": 40,
   "metadata": {},
   "outputs": [],
   "source": [
    "def PredictPlot(files):\n",
    "    data, fs = librosa.load(files)\n",
    "    n    = data.size\n",
    "    \n",
    "    EffectiveInx= np.argwhere(data > 0.001)\n",
    "    Effective   = data[EffectiveInx]\n",
    "    n           = Effective.size\n",
    "\n",
    "    step          = math.floor(n / 100)\n",
    "    mx_res= mn_res= np.array([])\n",
    "\n",
    "    for l in range(10):\n",
    "        now = range(step*l, step*(l+1))\n",
    "        mx  = Frequency(np.reshape(Effective[now], step), fs)\n",
    "        mx_res = np.append(mx_res, mx)\n",
    "\n",
    "    mx_res_mean = np.mean(mx_res)\n",
    "    mx_res_std  = np.std(mx_res)\n",
    "    mx_res      = (mx_res-mx_res_mean)/(mx_res_std+1e-3)\n",
    "    \n",
    "    return(mx_res)"
   ]
  },
  {
   "cell_type": "code",
   "execution_count": 42,
   "metadata": {},
   "outputs": [
    {
     "name": "stdout",
     "output_type": "stream",
     "text": [
      "You are Sad:(\n",
      "[<matplotlib.lines.Line2D object at 0x1c30eff940>]\n"
     ]
    },
    {
     "data": {
      "image/png": "[encoded data removed]",
      "text/plain": [
       "<matplotlib.figure.Figure at 0x1c2f817ac8>"
      ]
     },
     "metadata": {},
     "output_type": "display_data"
    }
   ],
   "source": [
    "print(PredictEmotion(\"HW_Sad.wav\"))\n",
    "print(plt.plot(range(10), PredictPlot(\"HW_Sad.wav\")))"
   ]
  },
  {
   "cell_type": "code",
   "execution_count": null,
   "metadata": {},
   "outputs": [],
   "source": []
  }
 ],
 "metadata": {
  "anaconda-cloud": {},
  "kernelspec": {
   "display_name": "Python [default]",
   "language": "python",
   "name": "python3"
  },
  "language_info": {
   "codemirror_mode": {
    "name": "ipython",
    "version": 3
   },
   "file_extension": ".py",
   "mimetype": "text/x-python",
   "name": "python",
   "nbconvert_exporter": "python",
   "pygments_lexer": "ipython3",
   "version": "3.6.3"
  }
 },
 "nbformat": 4,
 "nbformat_minor": 2
}
